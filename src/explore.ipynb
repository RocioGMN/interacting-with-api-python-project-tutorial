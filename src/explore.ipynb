{
    "cells": [
        {
            "cell_type": "markdown",
            "metadata": {},
            "source": [
                "# Explore here"
            ]
        },
        {
            "cell_type": "code",
            "execution_count": 2,
            "metadata": {},
            "outputs": [],
            "source": [
                "import os\n",
                "import pandas as pd\n",
                "import seaborn as sns\n",
                "from dotenv import load_dotenv\n",
                "import spotipy as sp\n",
                "# load the .env file variables\n",
                "load_dotenv()\n",
                "\n",
                "from spotipy.oauth2 import SpotifyClientCredentials\n",
                "\n"
            ]
        },
        {
            "cell_type": "code",
            "execution_count": 3,
            "metadata": {},
            "outputs": [
                {
                    "name": "stdout",
                    "output_type": "stream",
                    "text": [
                        "Requirement already satisfied: spotipy in /home/gitpod/.pyenv/versions/3.12.3/lib/python3.12/site-packages (2.24.0)\n",
                        "Requirement already satisfied: redis>=3.5.3 in /home/gitpod/.pyenv/versions/3.12.3/lib/python3.12/site-packages (from spotipy) (5.0.7)\n",
                        "Requirement already satisfied: requests>=2.25.0 in /home/gitpod/.pyenv/versions/3.12.3/lib/python3.12/site-packages (from spotipy) (2.31.0)\n",
                        "Requirement already satisfied: urllib3>=1.26.0 in /home/gitpod/.pyenv/versions/3.12.3/lib/python3.12/site-packages (from spotipy) (2.2.1)\n",
                        "Requirement already satisfied: charset-normalizer<4,>=2 in /home/gitpod/.pyenv/versions/3.12.3/lib/python3.12/site-packages (from requests>=2.25.0->spotipy) (3.3.2)\n",
                        "Requirement already satisfied: idna<4,>=2.5 in /home/gitpod/.pyenv/versions/3.12.3/lib/python3.12/site-packages (from requests>=2.25.0->spotipy) (3.7)\n",
                        "Requirement already satisfied: certifi>=2017.4.17 in /home/gitpod/.pyenv/versions/3.12.3/lib/python3.12/site-packages (from requests>=2.25.0->spotipy) (2024.2.2)\n",
                        "Note: you may need to restart the kernel to use updated packages.\n"
                    ]
                }
            ],
            "source": [
                "pip install spotipy"
            ]
        },
        {
            "cell_type": "code",
            "execution_count": 4,
            "metadata": {},
            "outputs": [
                {
                    "name": "stdout",
                    "output_type": "stream",
                    "text": [
                        "e5daf7ba813942e893c7ab772a51a890\n"
                    ]
                }
            ],
            "source": [
                "from dotenv import load_dotenv\n",
                "load_dotenv()\n",
                "\n",
                "import os\n",
                "\n",
                "client_id = os.environ.get(\"CLIENT_ID\")\n",
                "client_secret = os.environ.get(\"CLIENT_SECRET\")\n",
                "\n",
                "print(client_id)"
            ]
        },
        {
            "cell_type": "code",
            "execution_count": 5,
            "metadata": {},
            "outputs": [
                {
                    "name": "stdout",
                    "output_type": "stream",
                    "text": [
                        "<spotipy.client.Spotify object at 0x7f6839dbae70>\n"
                    ]
                }
            ],
            "source": [
                "con = sp.Spotify(auth_manager = SpotifyClientCredentials(client_id = client_id, client_secret = client_secret))\n",
                "\n",
                "print(con)"
            ]
        },
        {
            "cell_type": "code",
            "execution_count": 6,
            "metadata": {},
            "outputs": [
                {
                    "data": {
                        "text/plain": [
                            "<spotipy.client.Spotify at 0x7f6839dba870>"
                        ]
                    },
                    "execution_count": 6,
                    "metadata": {},
                    "output_type": "execute_result"
                }
            ],
            "source": [
                "sp.Spotify()"
            ]
        },
        {
            "cell_type": "code",
            "execution_count": 24,
            "metadata": {},
            "outputs": [
                {
                    "name": "stdout",
                    "output_type": "stream",
                    "text": [
                        "                                       Song Name  Popularity  \\\n",
                        "1        Trátame Suavemente - Remasterizado 2007          75   \n",
                        "7                      Te Para 3 - MTV Unplugged          65   \n",
                        "6  En La Ciudad De La Furia - Remasterizado 2007          65   \n",
                        "\n",
                        "   Duration (minutes)  \n",
                        "1            3.346667  \n",
                        "7            4.116667  \n",
                        "6            5.767550  \n"
                    ]
                }
            ],
            "source": [
                "# Inicializar la autorización de cliente de Spotify\n",
                "client_credentials_manager = SpotifyClientCredentials(client_id='TU_CLIENT_ID', client_secret='TU_CLIENT_SECRET')\n",
                "sp = spotipy.Spotify(client_credentials_manager=client_credentials_manager)\n",
                "\n",
                "# Obtener el top tracks de un artista usando el ID del artista\n",
                "artist_id = '7An4yvF7hDYDolN4m5zKBp'\n",
                "top_tracks = sp.artist_top_tracks(artist_id)\n",
                "\n",
                "# Crear listas para almacenar los datos\n",
                "song_names = []\n",
                "popularity = []\n",
                "duration_minutes = []\n",
                "reproducciones = []\n",
                "\n",
                "# Procesar la respuesta para obtener la información necesaria\n",
                "for track in top_tracks['tracks']:\n",
                "    song_names.append(track['name'])\n",
                "    popularity.append(track['popularity'])\n",
                "    duration_minutes.append(track['duration_ms'] / 60000)  # Convertir duración de ms a minutos\n",
                "    reproducciones.append(track['popularity']*100000)  # Simulación de reproducciones basada en la popularidad (ajustar según datos reales) este valor no me sale\n",
                "\n",
                "\n",
                "# Crear un diccionario con los datos\n",
                "data = {\n",
                "    'Song Name': song_names,\n",
                "    'Popularity': popularity,\n",
                "    'Duration (minutes)': duration_minutes,\n",
                "    'Reproducciones': reproducciones\n",
                "}\n",
                "\n",
                "# Crear un DataFrame importando los datos del diccionario\n",
                "df = pd.DataFrame(data)\n",
                "\n",
                "# Ordenar el DataFrame por popularidad de manera creciente\n",
                "sorted_df = scatter_df.sort_values(by='Popularity', ascending=False)\n",
                "\n",
                "# Mostrar el top 3 de canciones resultante\n",
                "top_3_popular = sorted_df.head(3)\n",
                "print(top_3_popular)\n",
                "\n"
            ]
        },
        {
            "cell_type": "code",
            "execution_count": 29,
            "metadata": {},
            "outputs": [
                {
                    "data": {
                        "image/png": "[encoded data removed]",
                        "text/plain": [
                            "<Figure size 1000x600 with 1 Axes>"
                        ]
                    },
                    "metadata": {},
                    "output_type": "display_data"
                }
            ],
            "source": [
                "import matplotlib.pyplot as plt\n",
                "\n",
                "# Crear un scatter plot para analizar la relación entre la duración y la popularidad\n",
                "plt.figure(figsize=(10, 6))\n",
                "plt.scatter(df['Duration (minutes)'], df['Popularity'], color='blue', alpha=0.7)\n",
                "plt.title('Duración vs Popularidad de las Canciones Top Tracks')\n",
                "plt.xlabel('Duración (minutos)')\n",
                "plt.ylabel('Popularidad')\n",
                "plt.grid(True)\n",
                "plt.show()\n",
                "\n",
                "# la duracion no esta relacionada con la popularidad de la cancion\n"
            ]
        }
    ],
    "metadata": {
        "kernelspec": {
            "display_name": "Python 3.8.13 64-bit ('3.8.13')",
            "language": "python",
            "name": "python3"
        },
        "language_info": {
            "codemirror_mode": {
                "name": "ipython",
                "version": 3
            },
            "file_extension": ".py",
            "mimetype": "text/x-python",
            "name": "python",
            "nbconvert_exporter": "python",
            "pygments_lexer": "ipython3",
            "version": "3.12.3"
        },
        "orig_nbformat": 4,
        "vscode": {
            "interpreter": {
                "hash": "110cc1dee26208153f2972f08a2ad52b6a56238dc66d48e87fb757ef2996db56"
            }
        }
    },
    "nbformat": 4,
    "nbformat_minor": 2
}
